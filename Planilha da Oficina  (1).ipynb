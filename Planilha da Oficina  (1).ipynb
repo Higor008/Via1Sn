{
 "cells": [
  {
   "cell_type": "code",
   "execution_count": 1,
   "id": "e07c2ae6",
   "metadata": {
    "scrolled": true
   },
   "outputs": [],
   "source": [
    "import pyautogui\n",
    "import time\n",
    "from selenium import webdriver\n",
    "from webdriver_manager.chrome import ChromeDriverManager\n",
    "from selenium.webdriver.chrome.service import Service\n",
    "from selenium.webdriver import ActionChains\n",
    "\n",
    "\n",
    "servico = Service(ChromeDriverManager().install())\n",
    "\n",
    "navegador = webdriver.Chrome(service=servico)\n",
    "mouse = ActionChains (navegador)\n",
    "\n",
    "\n",
    "navegador.get(\"https://webservice.grupovia1.com.br/LoginAux.aspx?Windows\")\n",
    "navegador.find_element('xpath','//*[@id=\"vUSUARIO_IDENTIFICADORALTERNATIVO\"]').send_keys(\"Higor.silva\")\n",
    "time.sleep(1)\n",
    "navegador.find_element('xpath','//*[@id=\"vUSUARIOSENHA_SENHA\"]').send_keys(\"Blackbb01$\")\n",
    "navegador.find_element('xpath','//*[@id=\"IMAGE3\"]').click()\n",
    "time.sleep(3)\n",
    "navegador.find_element('xpath','//*[@id=\"ext-gen34\"]').click()\n",
    "time.sleep\n",
    "mouse.move_to_element(navegador.find_element('xpath','//*[@id=\"ext-gen112\"]')).perform()\n",
    "mouse.move_to_element(navegador.find_element('xpath','//*[@id=\"W5|_389_|O.S.\"]')).perform()\n",
    "navegador.find_element('xpath','//*[@id=\"W5|_390_|O.S.\"]').click()\n",
    "time.sleep(5)\n",
    "\n",
    "pyautogui.click(x=1309, y=1052) \n",
    "\n",
    "pyautogui.hotkey('tab')\n",
    "pyautogui.hotkey('tab')\n",
    "pyautogui.press('down')\n",
    "pyautogui.press('down')\n",
    "pyautogui.press('down')\n",
    "pyautogui.press('down')\n",
    "pyautogui.press('down')\n",
    "pyautogui.press('enter')\n",
    "pyautogui.hotkey('tab')\n",
    "pyautogui.hotkey('tab')\n",
    "pyautogui.hotkey('tab')\n",
    "pyautogui.press('enter')\n",
    "\n",
    "time.sleep(5)\n",
    "pyautogui.click(x=210, y=233)\n",
    "\n"
   ]
  },
  {
   "cell_type": "code",
   "execution_count": 4,
   "id": "9a3fb593",
   "metadata": {},
   "outputs": [
    {
     "data": {
      "text/plain": [
       "Point(x=210, y=233)"
      ]
     },
     "execution_count": 4,
     "metadata": {},
     "output_type": "execute_result"
    }
   ],
   "source": [
    "time.sleep(10)\n",
    "\n",
    "\n",
    "pyautogui.position()"
   ]
  },
  {
   "cell_type": "code",
   "execution_count": null,
   "id": "6b01aa8a",
   "metadata": {},
   "outputs": [],
   "source": [
    "                        \n",
    "    \n",
    "    "
   ]
  }
 ],
 "metadata": {
  "kernelspec": {
   "display_name": "Python 3 (ipykernel)",
   "language": "python",
   "name": "python3"
  },
  "language_info": {
   "codemirror_mode": {
    "name": "ipython",
    "version": 3
   },
   "file_extension": ".py",
   "mimetype": "text/x-python",
   "name": "python",
   "nbconvert_exporter": "python",
   "pygments_lexer": "ipython3",
   "version": "3.9.12"
  }
 },
 "nbformat": 4,
 "nbformat_minor": 5
}
